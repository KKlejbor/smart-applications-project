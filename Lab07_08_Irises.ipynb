{
 "cells": [
  {
   "cell_type": "markdown",
   "metadata": {
    "pycharm": {
     "name": "#%% md\n"
    }
   },
   "source": [
    "## Classifying iris species based its features\n",
    "\n",
    "In this notebook a classification of iris species will be performed with the use of Naive Bayes algorithm from Spark MLlib\n",
    "\n",
    "## Dataset structure\n",
    "\n",
    "This dataset contains description of three iris species () - 50 instances each. Each instance has 4 features:\n",
    "\n",
    "- Sepal Length in cm\n",
    "- Sepal Width in cm\n",
    "- Petal Length in cm\n",
    "- Petal Width in cm\n",
    "\n",
    "\n",
    "Additionally, a species is assigned to each of the instances\n",
    "\n",
    "*[The dataset has been taken from the UCI Machine Learning Repository](https://archive.ics.uci.edu/ml/datasets/iris)*"
   ]
  },
  {
   "cell_type": "markdown",
   "metadata": {
    "pycharm": {
     "name": "#%% md\n"
    }
   },
   "source": [
    "### Importing all the necessary libraries"
   ]
  },
  {
   "cell_type": "code",
   "execution_count": 52,
   "metadata": {
    "collapsed": false,
    "jupyter": {
     "outputs_hidden": false
    },
    "pycharm": {
     "name": "#%%\n"
    }
   },
   "outputs": [],
   "source": [
    "import findspark\n",
    "from pyspark.ml import Pipeline\n",
    "from pyspark.ml.classification import NaiveBayes\n",
    "from pyspark.ml.evaluation import MulticlassClassificationEvaluator\n",
    "from pyspark.ml.feature import StringIndexer\n",
    "from pyspark.ml.feature import VectorAssembler\n",
    "from pyspark.sql import SparkSession"
   ]
  },
  {
   "cell_type": "markdown",
   "metadata": {
    "pycharm": {
     "name": "#%% md\n"
    }
   },
   "source": [
    "### Initializing spark session"
   ]
  },
  {
   "cell_type": "code",
   "execution_count": 53,
   "metadata": {
    "collapsed": false,
    "jupyter": {
     "outputs_hidden": false
    },
    "pycharm": {
     "name": "#%%\n"
    }
   },
   "outputs": [],
   "source": [
    "findspark.init()\n",
    "spark = SparkSession.builder.getOrCreate()"
   ]
  },
  {
   "cell_type": "markdown",
   "metadata": {
    "pycharm": {
     "name": "#%% md\n"
    }
   },
   "source": [
    "### Loading the dataset\n",
    "\n",
    "Printing a fragment of the dataset"
   ]
  },
  {
   "cell_type": "code",
   "execution_count": 54,
   "metadata": {
    "collapsed": false,
    "jupyter": {
     "outputs_hidden": false
    },
    "pycharm": {
     "name": "#%%\n"
    }
   },
   "outputs": [
    {
     "name": "stdout",
     "output_type": "stream",
     "text": [
      "+-----------+----------+-----------+----------+-----------+\n",
      "|SepalLength|SepalWidth|PetalLength|PetalWidth|    Species|\n",
      "+-----------+----------+-----------+----------+-----------+\n",
      "|        5.1|       3.5|        1.4|       0.2|Iris-setosa|\n",
      "|        4.9|       3.0|        1.4|       0.2|Iris-setosa|\n",
      "|        4.7|       3.2|        1.3|       0.2|Iris-setosa|\n",
      "|        4.6|       3.1|        1.5|       0.2|Iris-setosa|\n",
      "|        5.0|       3.6|        1.4|       0.2|Iris-setosa|\n",
      "|        5.4|       3.9|        1.7|       0.4|Iris-setosa|\n",
      "|        4.6|       3.4|        1.4|       0.3|Iris-setosa|\n",
      "|        5.0|       3.4|        1.5|       0.2|Iris-setosa|\n",
      "|        4.4|       2.9|        1.4|       0.2|Iris-setosa|\n",
      "|        4.9|       3.1|        1.5|       0.1|Iris-setosa|\n",
      "|        5.4|       3.7|        1.5|       0.2|Iris-setosa|\n",
      "|        4.8|       3.4|        1.6|       0.2|Iris-setosa|\n",
      "|        4.8|       3.0|        1.4|       0.1|Iris-setosa|\n",
      "|        4.3|       3.0|        1.1|       0.1|Iris-setosa|\n",
      "|        5.8|       4.0|        1.2|       0.2|Iris-setosa|\n",
      "|        5.7|       4.4|        1.5|       0.4|Iris-setosa|\n",
      "|        5.4|       3.9|        1.3|       0.4|Iris-setosa|\n",
      "|        5.1|       3.5|        1.4|       0.3|Iris-setosa|\n",
      "|        5.7|       3.8|        1.7|       0.3|Iris-setosa|\n",
      "|        5.1|       3.8|        1.5|       0.3|Iris-setosa|\n",
      "+-----------+----------+-----------+----------+-----------+\n",
      "only showing top 20 rows\n",
      "\n"
     ]
    }
   ],
   "source": [
    "irisDS = spark.read.format(\"csv\").option(\"header\", \"true\").option(\"delimiter\", \",\").option(\"quote\", \"\").option(\"inferSchema\", \"true\").load(\"/home/jovyan/work/iris.csv\")\n",
    "irisDS.show()"
   ]
  },
  {
   "cell_type": "markdown",
   "source": [
    "### Checking if Spark has correctly recognized all the columns\n",
    "\n",
    "All columns (besides *Species*) should contain numerical data"
   ],
   "metadata": {
    "collapsed": false,
    "pycharm": {
     "name": "#%% md\n"
    }
   }
  },
  {
   "cell_type": "code",
   "execution_count": 55,
   "metadata": {
    "collapsed": false,
    "jupyter": {
     "outputs_hidden": false
    },
    "pycharm": {
     "name": "#%%\n"
    }
   },
   "outputs": [
    {
     "name": "stdout",
     "output_type": "stream",
     "text": [
      "root\n",
      " |-- SepalLength: double (nullable = true)\n",
      " |-- SepalWidth: double (nullable = true)\n",
      " |-- PetalLength: double (nullable = true)\n",
      " |-- PetalWidth: double (nullable = true)\n",
      " |-- Species: string (nullable = true)\n",
      "\n"
     ]
    }
   ],
   "source": [
    "irisDS.printSchema()"
   ]
  },
  {
   "cell_type": "markdown",
   "source": [
    "### Creating a StringIndexer and VectorAssembler\n",
    "\n",
    "These objects are necessary for preparing the dataset for the classificator. It takes a dataset that contains the following columns: *features* and *label*. The first column contains a features vector. The second column contains class number. *StringIndexer* object is used to transform species names into numerical values. The *VectorAssembler* object is used for grouping the four features columns into one vector."
   ],
   "metadata": {
    "collapsed": false,
    "pycharm": {
     "name": "#%% md\n"
    }
   }
  },
  {
   "cell_type": "code",
   "execution_count": 56,
   "outputs": [],
   "source": [
    "labelIndexer = StringIndexer(inputCol=\"Species\", outputCol=\"label\")\n",
    "\n",
    "vecAssembler = VectorAssembler(inputCols=[\"SepalLength\", \"SepalWidth\", \"PetalLength\", \"PetalWidth\"], outputCol=\"features\")"
   ],
   "metadata": {
    "collapsed": false,
    "pycharm": {
     "name": "#%%\n"
    }
   }
  },
  {
   "cell_type": "markdown",
   "metadata": {
    "pycharm": {
     "name": "#%% md\n"
    }
   },
   "source": [
    "### Splitting the dataset between test and train datasets\n",
    "\n",
    "The dataset will be randomly split between two new sets. The *train* dataset will contain 70% of the original dataset's data. It will be used to build a classification model. The *test* dataset will contain 30% of the original dataset's data. It will be used to evaluate the classification model. After the split, the amount of instances will be printed."
   ]
  },
  {
   "cell_type": "code",
   "execution_count": 57,
   "metadata": {
    "collapsed": false,
    "jupyter": {
     "outputs_hidden": false
    },
    "pycharm": {
     "name": "#%%\n"
    }
   },
   "outputs": [
    {
     "name": "stdout",
     "output_type": "stream",
     "text": [
      "Amount of instances in the train dataset: 104\n",
      "Amount of instances in the test dataset: 46\n"
     ]
    }
   ],
   "source": [
    "(trainingData, testData) = irisDS.randomSplit([0.7, 0.3], seed=100)\n",
    "\n",
    "print(f\"Amount of instances in the train dataset: {trainingData.count()}\")\n",
    "print(f\"Amount of instances in the test dataset: {testData.count()}\")"
   ]
  },
  {
   "cell_type": "markdown",
   "metadata": {
    "pycharm": {
     "name": "#%% md\n"
    }
   },
   "source": [
    "### Creating and training a multiclass classificator with the use of Naive Bayes algorithm\n",
    "\n",
    "The classificator will try to predict to which category a given instances belongs. It will determine this based on instance's features. **It's important to remember that this algorithm *assumes* independence between features. Additionally, this algorithm requires features to be non-negative**. A MLlib pipeline is used to fit the dataset to the model."
   ]
  },
  {
   "cell_type": "code",
   "execution_count": 58,
   "metadata": {
    "collapsed": false,
    "jupyter": {
     "outputs_hidden": false
    },
    "pycharm": {
     "name": "#%%\n"
    }
   },
   "outputs": [],
   "source": [
    "nb = NaiveBayes(smoothing=1.0, modelType=\"multinomial\")\n",
    "\n",
    "pipeline = Pipeline(stages=[labelIndexer, vecAssembler, nb])\n",
    "\n",
    "model = pipeline.fit(trainingData)"
   ]
  },
  {
   "cell_type": "markdown",
   "source": [
    "### Running the classification model on the test dataset\n",
    "\n",
    "Based on knowledge gained during training, the model will predict to which category a given instances from the test dataset belongs"
   ],
   "metadata": {
    "collapsed": false,
    "pycharm": {
     "name": "#%% md\n"
    }
   }
  },
  {
   "cell_type": "code",
   "execution_count": 59,
   "metadata": {
    "pycharm": {
     "name": "#%%\n"
    }
   },
   "outputs": [],
   "source": [
    "predictions = model.transform(testData)"
   ]
  },
  {
   "cell_type": "markdown",
   "source": [
    "### Printing the resulting dataset schema\n",
    "\n"
   ],
   "metadata": {
    "collapsed": false,
    "pycharm": {
     "name": "#%% md\n"
    }
   }
  },
  {
   "cell_type": "code",
   "execution_count": 60,
   "outputs": [
    {
     "name": "stdout",
     "output_type": "stream",
     "text": [
      "root\n",
      " |-- SepalLength: double (nullable = true)\n",
      " |-- SepalWidth: double (nullable = true)\n",
      " |-- PetalLength: double (nullable = true)\n",
      " |-- PetalWidth: double (nullable = true)\n",
      " |-- Species: string (nullable = true)\n",
      " |-- label: double (nullable = false)\n",
      " |-- features: vector (nullable = true)\n",
      " |-- rawPrediction: vector (nullable = true)\n",
      " |-- probability: vector (nullable = true)\n",
      " |-- prediction: double (nullable = false)\n",
      "\n"
     ]
    }
   ],
   "source": [
    "predictions.printSchema()"
   ],
   "metadata": {
    "collapsed": false,
    "pycharm": {
     "name": "#%%\n"
    }
   }
  },
  {
   "cell_type": "markdown",
   "source": [
    "### Presenting predictions\n",
    "\n",
    "In the *label* column sits the actual category number of a given instance. In the *features* column sits a features vector. In the *rawPrediction* column sits a vector containing *raw* prediction values. In the *probability* column sits a vector containing probabilities of belonging to each of the classes. In the *prediction* column sits a predicted class of a given instance."
   ],
   "metadata": {
    "collapsed": false,
    "pycharm": {
     "name": "#%% md\n"
    }
   }
  },
  {
   "cell_type": "code",
   "execution_count": 61,
   "outputs": [
    {
     "name": "stdout",
     "output_type": "stream",
     "text": [
      "+-----+----------+-------------------------------------------------------------+\n",
      "|label|prediction|probability                                                  |\n",
      "+-----+----------+-------------------------------------------------------------+\n",
      "|2.0  |2.0       |[0.20253050754778992,0.11205481371745843,0.6854146787347515] |\n",
      "|2.0  |2.0       |[0.22610513002031704,0.12516423426180695,0.6487306357178761] |\n",
      "|2.0  |2.0       |[0.20155443460425587,0.10855263459197305,0.6898929308037711] |\n",
      "|2.0  |2.0       |[0.20855321122455778,0.11231546581200702,0.6791313229634351] |\n",
      "|2.0  |2.0       |[0.2398081472107575,0.13230333720250126,0.6278885155867413]  |\n",
      "|2.0  |2.0       |[0.2018436957183859,0.10766518303273141,0.6904911212488827]  |\n",
      "|2.0  |2.0       |[0.2018436957183859,0.10766518303273141,0.6904911212488827]  |\n",
      "|2.0  |2.0       |[0.17954001348424262,0.0939934849813415,0.7264665015344159]  |\n",
      "|2.0  |2.0       |[0.18366447593700436,0.09631770152992547,0.7200178225330701] |\n",
      "|2.0  |2.0       |[0.19178213078143758,0.1000648785766764,0.7081529906418861]  |\n",
      "|2.0  |2.0       |[0.17526179377231108,0.0898258949428228,0.7349123112848661]  |\n",
      "|2.0  |2.0       |[0.20264017374885848,0.10752068827834671,0.6898391379727947] |\n",
      "|2.0  |2.0       |[0.17933752738486294,0.09207249793812439,0.7285899746770126] |\n",
      "|2.0  |2.0       |[0.23638735075044784,0.1282641026995765,0.6353485465499755]  |\n",
      "|0.0  |0.0       |[0.5022462703213126,0.4458778758640168,0.05187585381467054]  |\n",
      "|2.0  |2.0       |[0.20473395999053665,0.10602260134374765,0.6892434386657158] |\n",
      "|0.0  |0.0       |[0.5049657591167898,0.44855554155977656,0.04647869932343368] |\n",
      "|2.0  |2.0       |[0.12418184391083543,0.05757690440977896,0.8182412516793856] |\n",
      "|0.0  |0.0       |[0.5096836883875692,0.4171830798846429,0.0731332317277878]   |\n",
      "|0.0  |0.0       |[0.505479710953279,0.40669978641931015,0.08782050262741094]  |\n",
      "|1.0  |1.0       |[0.4729540054467359,0.516723044971417,0.010322949581847079]  |\n",
      "|0.0  |0.0       |[0.5015043345508545,0.38158900418345804,0.11690666126568754] |\n",
      "|0.0  |0.0       |[0.5122734495181049,0.4291630185317534,0.05856353195014162]  |\n",
      "|2.0  |2.0       |[0.14256944404706318,0.0673647293906711,0.7900658265622656]  |\n",
      "|1.0  |1.0       |[0.4589775410016794,0.5341784538672297,0.006844005131090948] |\n",
      "|0.0  |0.0       |[0.49987741729257745,0.4806631226504295,0.019459460056993085]|\n",
      "|0.0  |0.0       |[0.5145244191097037,0.4401121685150249,0.04536341237527135]  |\n",
      "|0.0  |0.0       |[0.5186561862055427,0.42111822183068826,0.06022559196376919] |\n",
      "|0.0  |0.0       |[0.5152972024533158,0.44385986061349375,0.04084293693319051] |\n",
      "|1.0  |0.0       |[0.5108102617608938,0.46416751296110675,0.025022225277999383]|\n",
      "|1.0  |1.0       |[0.49021336959586465,0.4975182715731959,0.012268358830939421]|\n",
      "|1.0  |1.0       |[0.47209372596095106,0.5209565380034936,0.00694973603555522] |\n",
      "|1.0  |1.0       |[0.4807536958439844,0.5095618745664227,0.009684429589592775] |\n",
      "|0.0  |0.0       |[0.524603728344649,0.4228316307903107,0.05256464086504034]   |\n",
      "|1.0  |1.0       |[0.4885400335032979,0.5023761770532006,0.009083789443501324] |\n",
      "|1.0  |1.0       |[0.4836190029340423,0.5064744175688273,0.009906579497130339] |\n",
      "|1.0  |1.0       |[0.49208284592339513,0.4973773914526572,0.010539762623947848]|\n",
      "|1.0  |1.0       |[0.4907400558880081,0.4987526781529287,0.01050726595906316]  |\n",
      "|1.0  |1.0       |[0.4780444728070253,0.5152742074649467,0.006681319728027974] |\n",
      "|0.0  |0.0       |[0.5256677008014479,0.43534605199334175,0.038986247205210316]|\n",
      "|1.0  |0.0       |[0.4962158262753359,0.49150390368163965,0.012280270043024505]|\n",
      "|0.0  |0.0       |[0.5300688403714312,0.4147059421356526,0.055225217492916194] |\n",
      "|1.0  |0.0       |[0.49793052792852394,0.4932925491347607,0.008776922936715347]|\n",
      "|1.0  |1.0       |[0.4878483729725243,0.5069648451336608,0.005186781893814838] |\n",
      "|1.0  |1.0       |[0.48699620888979106,0.5068166666993165,0.006187124410892552]|\n",
      "|1.0  |0.0       |[0.49976591916908136,0.4930614414330585,0.007172639397860145]|\n",
      "+-----+----------+-------------------------------------------------------------+\n",
      "\n"
     ]
    }
   ],
   "source": [
    "predictions.select(\"label\", \"prediction\", \"probability\").show(50, truncate=False)"
   ],
   "metadata": {
    "collapsed": false,
    "pycharm": {
     "name": "#%%\n"
    }
   }
  },
  {
   "cell_type": "markdown",
   "source": [
    "### Evaluation\n",
    "\n",
    "A *MulticlassClassificationEvaluator* from the MLlib will be used to evaluate the model. It will be used to compute the accuracy of the model."
   ],
   "metadata": {
    "collapsed": false,
    "pycharm": {
     "name": "#%% md\n"
    }
   }
  },
  {
   "cell_type": "code",
   "execution_count": 62,
   "outputs": [
    {
     "name": "stdout",
     "output_type": "stream",
     "text": [
      "Model's accuracy is around 91.3%\n"
     ]
    }
   ],
   "source": [
    "evaluator = MulticlassClassificationEvaluator(labelCol=\"label\", predictionCol=\"prediction\", metricName=\"accuracy\")\n",
    "accuracy = evaluator.evaluate(predictions)\n",
    "print(f\"Model's accuracy is around {round(accuracy * 100, 2)}%\")"
   ],
   "metadata": {
    "collapsed": false,
    "pycharm": {
     "name": "#%%\n"
    }
   }
  },
  {
   "cell_type": "markdown",
   "source": [
    "### Closing the Spark session"
   ],
   "metadata": {
    "collapsed": false,
    "pycharm": {
     "name": "#%% md\n"
    }
   }
  },
  {
   "cell_type": "code",
   "execution_count": 63,
   "outputs": [],
   "source": [
    "spark.stop()"
   ],
   "metadata": {
    "collapsed": false,
    "pycharm": {
     "name": "#%%\n"
    }
   }
  }
 ],
 "metadata": {
  "kernelspec": {
   "display_name": "Python 3 (ipykernel)",
   "language": "python",
   "name": "python3"
  },
  "language_info": {
   "codemirror_mode": {
    "name": "ipython",
    "version": 3
   },
   "file_extension": ".py",
   "mimetype": "text/x-python",
   "name": "python",
   "nbconvert_exporter": "python",
   "pygments_lexer": "ipython3",
   "version": "3.10.4"
  }
 },
 "nbformat": 4,
 "nbformat_minor": 4
}